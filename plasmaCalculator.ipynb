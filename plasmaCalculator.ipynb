{
 "cells": [
  {
   "cell_type": "code",
   "execution_count": 35,
   "metadata": {
    "ExecuteTime": {
     "end_time": "2018-09-24T08:07:41.923454Z",
     "start_time": "2018-09-24T08:07:41.901699Z"
    }
   },
   "outputs": [],
   "source": [
    "ne = 1e17\n",
    "Te = 1\n",
    "\n",
    "from astropy.constants import k_B, e, eps0, m_e\n",
    "kb = k_B.value\n",
    "q = e.si.value\n",
    "eps0 =eps0.value\n",
    "me = m_e.value\n",
    "import numpy as np"
   ]
  },
  {
   "cell_type": "code",
   "execution_count": 36,
   "metadata": {
    "ExecuteTime": {
     "end_time": "2018-09-24T08:07:42.225712Z",
     "start_time": "2018-09-24T08:07:42.208615Z"
    }
   },
   "outputs": [],
   "source": [
    "def Dle(n, T):\n",
    "    \"\"\"Retrun the debye lenght in meter (SI)\"\"\"\n",
    "    return np.sqrt(eps0*T/(n*q))\n",
    "\n",
    "def wpe(n):\n",
    "    \"\"\"return the plasma frequency (cold electron)\"\"\"\n",
    "    return np.sqrt(n*q**2/(me*eps0))\n",
    "\n",
    "def dt(n):\n",
    "    \"\"\"return the PIC time step such that dt < 0.1/wpe\"\"\"\n",
    "    return 0.1/(wpe(n))"
   ]
  },
  {
   "cell_type": "code",
   "execution_count": 37,
   "metadata": {
    "ExecuteTime": {
     "end_time": "2018-09-24T08:07:42.402854Z",
     "start_time": "2018-09-24T08:07:42.396703Z"
    }
   },
   "outputs": [
    {
     "data": {
      "text/plain": [
       "2.3508188799243948e-05"
      ]
     },
     "execution_count": 37,
     "metadata": {},
     "output_type": "execute_result"
    }
   ],
   "source": [
    "Dle(ne, Te)"
   ]
  },
  {
   "cell_type": "code",
   "execution_count": 38,
   "metadata": {
    "ExecuteTime": {
     "end_time": "2018-09-24T08:07:42.713084Z",
     "start_time": "2018-09-24T08:07:42.707157Z"
    }
   },
   "outputs": [
    {
     "data": {
      "text/plain": [
       "5.605424008722362"
      ]
     },
     "execution_count": 38,
     "metadata": {},
     "output_type": "execute_result"
    }
   ],
   "source": [
    "dt(ne)*1e12"
   ]
  },
  {
   "cell_type": "code",
   "execution_count": null,
   "metadata": {},
   "outputs": [],
   "source": []
  }
 ],
 "metadata": {
  "kernelspec": {
   "display_name": "Python 3",
   "language": "python",
   "name": "python3"
  },
  "language_info": {
   "codemirror_mode": {
    "name": "ipython",
    "version": 3
   },
   "file_extension": ".py",
   "mimetype": "text/x-python",
   "name": "python",
   "nbconvert_exporter": "python",
   "pygments_lexer": "ipython3",
   "version": "3.6.6"
  },
  "latex_envs": {
   "LaTeX_envs_menu_present": true,
   "autoclose": true,
   "autocomplete": false,
   "bibliofile": "biblio.bib",
   "cite_by": "apalike",
   "current_citInitial": 1,
   "eqLabelWithNumbers": true,
   "eqNumInitial": 1,
   "hotkeys": {
    "equation": "Ctrl-E",
    "itemize": "Ctrl-I"
   },
   "labels_anchors": false,
   "latex_user_defs": false,
   "report_style_numbering": false,
   "user_envs_cfg": false
  },
  "toc": {
   "base_numbering": 1,
   "nav_menu": {},
   "number_sections": true,
   "sideBar": true,
   "skip_h1_title": false,
   "title_cell": "Table of Contents",
   "title_sidebar": "Contents",
   "toc_cell": false,
   "toc_position": {},
   "toc_section_display": true,
   "toc_window_display": false
  },
  "varInspector": {
   "cols": {
    "lenName": 16,
    "lenType": 16,
    "lenVar": 40
   },
   "kernels_config": {
    "python": {
     "delete_cmd_postfix": "",
     "delete_cmd_prefix": "del ",
     "library": "var_list.py",
     "varRefreshCmd": "print(var_dic_list())"
    },
    "r": {
     "delete_cmd_postfix": ") ",
     "delete_cmd_prefix": "rm(",
     "library": "var_list.r",
     "varRefreshCmd": "cat(var_dic_list()) "
    }
   },
   "types_to_exclude": [
    "module",
    "function",
    "builtin_function_or_method",
    "instance",
    "_Feature"
   ],
   "window_display": false
  }
 },
 "nbformat": 4,
 "nbformat_minor": 2
}
